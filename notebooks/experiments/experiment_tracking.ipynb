{
 "cells": [
  {
   "cell_type": "markdown",
   "metadata": {},
   "source": [
    "# 🧪 Experiment Tracking\n",
    "\n",
    "This notebook demonstrates how to track experiments for the KubeSentiment project."
   ]
  },
  {
   "cell_type": "markdown",
   "metadata": {},
   "source": [
    "## 🎯 Learning Objectives\n",
    "\n",
    "By the end of this notebook, you will:\n",
    "1. Understand the importance of experiment tracking in MLOps.\n",
    "2. Learn how to track experiments using MLflow.\n",
    "3. Understand how to log parameters, metrics, and artifacts."
   ]
  },
  {
   "cell_type": "markdown",
   "metadata": {},
   "source": [
    "## 📦 Setup and Dependencies\n",
    "\n",
    "First, let's install the required dependencies and set up our environment."
   ]
  },
  {
   "cell_type": "code",
   "execution_count": null,
   "metadata": {},
   "outputs": [],
   "source": [
    "# Install required packages for this notebook\n",
    "!pip install -r ../requirements.txt"
   ]
  },
  {
   "cell_type": "markdown",
   "metadata": {},
   "source": [
    "### ✅ Version Check\n",
    "Let's check the versions of the installed libraries to ensure our environment is reproducible."
   ]
  },
  {
   "cell_type": "code",
   "execution_count": null,
   "metadata": {},
   "outputs": [],
   "source": [
    "# List installed packages to ensure reproducibility\n",
    "!pip list"
   ]
  },
  {
   "cell_type": "markdown",
   "metadata": {},
   "source": [
    "## 🧪 What is Experiment Tracking?\n",
    "\n",
    "Experiment tracking is the process of logging all of the information related to a machine learning experiment. This includes the code, data, parameters, metrics, and artifacts. Experiment tracking is a critical part of any MLOps pipeline, as it allows you to reproduce experiments and compare the results of different experiments."
   ]
  },
  {
   "cell_type": "markdown",
   "metadata": {},
   "source": [
    "### Tracking Experiments with MLflow\n",
    "\n",
    "MLflow is an open source platform for managing the end-to-end machine learning lifecycle. It includes a tracking component that allows you to log experiments."
   ]
  },
  {
   "cell_type": "code",
   "execution_count": null,
   "metadata": {},
   "outputs": [],
   "source": [
    "import mlflow\n",
    "\n",
    "# Set the experiment name\n",
    "mlflow.set_experiment(\"KubeSentiment\")\n",
    "\n",
    "# Start a new run\n",
    "with mlflow.start_run():\n",
    "    # Log the parameters\n",
    "    mlflow.log_param(\"model_name\", \"distilbert-base-uncased-finetuned-sst-2-english\")\n",
    "    mlflow.log_param(\"batch_size\", 32)\n",
    "    mlflow.log_param(\"learning_rate\", 5e-5)\n",
    "\n",
    "    # Log the metrics\n",
    "    mlflow.log_metric(\"accuracy\", 0.95)\n",
    "    mlflow.log_metric(\"precision\", 0.96)\n",
    "    mlflow.log_metric(\"recall\", 0.94)\n",
    "\n",
    "    # Log the artifacts\n",
    "    mlflow.log_artifact(\"sentiment_model.onnx\")"
   ]
  }
 ],
 "metadata": {
  "kernelspec": {
   "display_name": "Python 3",
   "language": "python",
   "name": "python3"
  },
  "language_info": {
   "codemirror_mode": {
    "name": "ipython",
    "version": 3
   },
   "file_extension": ".py",
   "mimetype": "text/x-python",
   "name": "python",
   "nbconvert_exporter": "python",
   "pygments_lexer": "ipython3",
   "version": "3.9.0"
  }
 },
 "nbformat": 4,
 "nbformat_minor": 4
}
